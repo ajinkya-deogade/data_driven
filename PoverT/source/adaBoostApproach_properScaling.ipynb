{
 "cells": [
  {
   "cell_type": "code",
   "execution_count": 1,
   "metadata": {},
   "outputs": [],
   "source": [
    "%matplotlib inline\n",
    "\n",
    "import os\n",
    "from time import time\n",
    "import datetime\n",
    "import numpy as np\n",
    "import pandas as pd\n",
    "\n",
    "from sklearn.model_selection import StratifiedShuffleSplit\n",
    "from sklearn.preprocessing import StandardScaler\n",
    "from sklearn.model_selection import GridSearchCV, RandomizedSearchCV\n",
    "from sklearn.tree import DecisionTreeClassifier\n",
    "from sklearn.ensemble import AdaBoostClassifier\n",
    "from sklearn.metrics import roc_curve, auc, log_loss\n",
    "from scipy.stats import randint as sp_randint\n",
    "from scipy import interp\n",
    "from drivendata_validator import DrivenDataValidator\n",
    "\n",
    "# data directory\n",
    "DATA_DIR = os.path.join('..', 'data', 'processed')"
   ]
  },
  {
   "cell_type": "code",
   "execution_count": 2,
   "metadata": {},
   "outputs": [],
   "source": [
    "## Make Submission DataFrame\n",
    "def make_country_sub(preds, test_feat, country):\n",
    "    # make sure we code the country correctly\n",
    "    country_codes = ['A', 'B', 'C']\n",
    "    \n",
    "    # get just the poor probabilities\n",
    "    country_sub = pd.DataFrame(data=preds[:, 1],  # proba p=1\n",
    "                               columns=['poor'], \n",
    "                               index=test_feat.index)\n",
    "\n",
    "    \n",
    "    # add the country code for joining later\n",
    "    country_sub[\"country\"] = country\n",
    "    return country_sub[[\"country\", \"poor\"]]\n",
    "\n",
    "# Utility function to report best scores\n",
    "def report(results, n_top=3):\n",
    "    for i in range(1, n_top + 1):\n",
    "        candidates = np.flatnonzero(results['rank_test_score'] == i)\n",
    "        for candidate in candidates:\n",
    "            print(\"Model with rank: {0}\".format(i))\n",
    "            print(\"Mean validation score: {0:.3f} (std: {1:.3f})\".format(\n",
    "                  results['mean_test_score'][candidate],\n",
    "                  results['std_test_score'][candidate]))\n",
    "            print(\"Parameters: {0}\".format(results['params'][candidate]))\n",
    "            print(\"\")"
   ]
  },
  {
   "cell_type": "markdown",
   "metadata": {},
   "source": [
    "##### Household-level survey data: \n",
    "This is obfuscated data from surveys conducted by The World Bank, focusing on household-level statistics. The data come from three different countries, and are separated into different files for convenience.\n",
    "\n",
    "##### Individual-level survey data: \n",
    "This is obfuscated data from related surveys conducted by The World Bank, only these focus on individual-level statistics. The set of interviewees and countries involved are the same as the household data, as indicated by shared id indices, but this data includes detailed (obfuscated) information about household members.\n",
    "\n",
    "##### Submission format:\n",
    "This gives us the filenames and columns of our submission prediction, filled with all 0.5 as a baseline."
   ]
  },
  {
   "cell_type": "code",
   "execution_count": 3,
   "metadata": {},
   "outputs": [],
   "source": [
    "## define data paths\n",
    "data_paths = {'A': {'train': os.path.join(DATA_DIR, 'A', 'A_hhold_train.csv'), \n",
    "                    'test':  os.path.join(DATA_DIR, 'A', 'A_hhold_test.csv')}, \n",
    "              \n",
    "              'B': {'train': os.path.join(DATA_DIR, 'B', 'B_hhold_train.csv'), \n",
    "                    'test':  os.path.join(DATA_DIR, 'B', 'B_hhold_test.csv')}, \n",
    "              \n",
    "              'C': {'train': os.path.join(DATA_DIR, 'C', 'C_hhold_train.csv'), \n",
    "                    'test':  os.path.join(DATA_DIR, 'C', 'C_hhold_test.csv')}}"
   ]
  },
  {
   "cell_type": "code",
   "execution_count": 4,
   "metadata": {},
   "outputs": [],
   "source": [
    "# load training data\n",
    "a_train = pd.read_csv(data_paths['A']['train'], index_col='id')\n",
    "b_train = pd.read_csv(data_paths['B']['train'], index_col='id')\n",
    "c_train = pd.read_csv(data_paths['C']['train'], index_col='id')\n",
    "\n",
    "# load test data\n",
    "a_test = pd.read_csv(data_paths['A']['test'], index_col='id')\n",
    "b_test = pd.read_csv(data_paths['B']['test'], index_col='id')\n",
    "c_test = pd.read_csv(data_paths['C']['test'], index_col='id')"
   ]
  },
  {
   "cell_type": "markdown",
   "metadata": {},
   "source": [
    "#### The first thing to notice is that each country's surveys have wildly different numbers of columns, so we'll plan on training separate models for each country and combining our predictions for submission at the end."
   ]
  },
  {
   "cell_type": "markdown",
   "metadata": {},
   "source": [
    "### Pre-process Data"
   ]
  },
  {
   "cell_type": "code",
   "execution_count": 5,
   "metadata": {
    "scrolled": false
   },
   "outputs": [
    {
     "name": "stdout",
     "output_type": "stream",
     "text": [
      "Preprocessing Training\n",
      "Country A\n",
      "Shapes before transformation\n",
      "Train :  (8203, 859)\n",
      "Test :  (4041, 859)\n",
      "Train + Test :  (12244, 859)\n",
      "Shapes after transformation\n",
      "Train :  (8203, 860)\n",
      "Test :  (4041, 859)\n",
      "\n",
      "Country B\n",
      "Shapes before transformation\n",
      "Train :  (3255, 1432)\n",
      "Test :  (1604, 1432)\n",
      "Train + Test :  (4859, 1432)\n",
      "Shapes after transformation\n",
      "Train :  (3255, 1433)\n",
      "Test :  (1604, 1432)\n",
      "\n",
      "Country C\n",
      "Shapes before transformation\n",
      "Train :  (6469, 795)\n",
      "Test :  (3187, 795)\n",
      "Train + Test :  (9656, 795)\n",
      "Shapes after transformation\n",
      "Train :  (6469, 796)\n",
      "Test :  (3187, 795)\n"
     ]
    }
   ],
   "source": [
    "def pre_process_train_test_data(train, test):\n",
    "    labels = np.ravel(train.poor)\n",
    "    train = pd.get_dummies(train.drop('poor', axis=1))\n",
    "    test =  pd.get_dummies(test)\n",
    "\n",
    "    # match test set and training set columns\n",
    "    to_drop = np.setdiff1d(test.columns, train.columns)\n",
    "    to_add = np.setdiff1d(train.columns, test.columns)\n",
    "\n",
    "    test.drop(to_drop, axis=1, inplace=True)\n",
    "    test = test.assign(**{c: 0 for c in to_add})\n",
    "    \n",
    "    train.fillna(0, inplace=True)\n",
    "    test.fillna(0, inplace=True)\n",
    "\n",
    "    test_indices = test.index\n",
    "    train_indices = train.index\n",
    "    train_test = pd.concat([train, test])\n",
    "\n",
    "    print \"Shapes before transformation\"\n",
    "    print \"Train : \", train.shape\n",
    "    print \"Test : \", test.shape\n",
    "    print \"Train + Test : \", train_test.shape\n",
    "\n",
    "    numeric_vals = train_test.select_dtypes(include=['int64', 'float64'])\n",
    "    scaler = StandardScaler()\n",
    "    train_test[numeric_vals.columns] = scaler.fit_transform(numeric_vals)\n",
    "\n",
    "    train = train_test.loc[train_indices, :]\n",
    "    test  = train_test.loc[test_indices, :]\n",
    "    \n",
    "    train['poor'] = labels\n",
    "    \n",
    "    print \"Shapes after transformation\"\n",
    "    print \"Train : \", train.shape\n",
    "    print \"Test : \",  test.shape\n",
    "    \n",
    "    return train, test\n",
    "\n",
    "print 'Preprocessing Training'\n",
    "print(\"Country A\")\n",
    "a_train, a_test = pre_process_train_test_data(a_train, a_test)\n",
    "aX_train = a_train.drop('poor', axis=1)\n",
    "ay_train = np.ravel(a_train.poor)\n",
    "\n",
    "print(\"\\nCountry B\")\n",
    "b_train, b_test = pre_process_train_test_data(b_train, b_test)\n",
    "bX_train = b_train.drop('poor', axis=1)\n",
    "by_train = np.ravel(b_train.poor)\n",
    "\n",
    "print(\"\\nCountry C\")\n",
    "c_train, c_test = pre_process_train_test_data(c_train, c_test)\n",
    "cX_train = c_train.drop('poor', axis=1)\n",
    "cy_train = np.ravel(c_train.poor)"
   ]
  },
  {
   "cell_type": "code",
   "execution_count": null,
   "metadata": {},
   "outputs": [],
   "source": [
    "## restructure train data\n",
    "all_train_data = {'A': {'features': aX_train, \n",
    "                        'labels': ay_train},\n",
    "                  'B': {'features': bX_train,\n",
    "                        'labels':  by_train}, \n",
    "                  'C': {'features': cX_train, \n",
    "                        'labels':  cy_train}}\n",
    "\n",
    "## restructure test data\n",
    "all_test_data = {'A': {'features': a_test},\n",
    "                 'B': {'features': b_test},\n",
    "                 'C': {'features': c_test}}"
   ]
  },
  {
   "cell_type": "markdown",
   "metadata": {},
   "source": [
    "### Cross-validation - Tune Parameters"
   ]
  },
  {
   "cell_type": "code",
   "execution_count": null,
   "metadata": {},
   "outputs": [
    {
     "name": "stdout",
     "output_type": "stream",
     "text": [
      "Working on group : A\n",
      "Number of features :  859\n"
     ]
    }
   ],
   "source": [
    "tune_params = 1\n",
    "if tune_params > 0:\n",
    "    bestParams = []\n",
    "    cv = StratifiedShuffleSplit(n_splits=5, test_size=0.5, random_state=0)\n",
    "    for grp in all_train_data:\n",
    "        \n",
    "        print 'Working on group : %s'%(grp)\n",
    "        \n",
    "        # get some data\n",
    "        X = all_train_data[grp]['features'].values.astype(np.float32)\n",
    "        y = all_train_data[grp]['labels'].astype(np.int16)\n",
    "\n",
    "        # build a classifier\n",
    "        dt_stump = DecisionTreeClassifier()\n",
    "        clf = AdaBoostClassifier(algorithm='SAMME.R', random_state=42)\n",
    "        \n",
    "        num_features = np.shape(X)[1]\n",
    "        print 'Number of features : ', num_features\n",
    "        \n",
    "        # specify parameters and distributions to sample from\n",
    "        param_dist = {\"n_estimators\": sp_randint(10, 1000),\n",
    "                     \"max_depth\": sp_randint(10, num_features/2),\n",
    "                      \"max_features\": sp_randint(10, num_features-5),\n",
    "                      \"min_samples_split\": sp_randint(2, num_features/2),\n",
    "                      \"min_samples_leaf\": sp_randint(2, num_features/4)}\n",
    "\n",
    "        # run randomized search\n",
    "        n_iter_search = 500\n",
    "        random_search = RandomizedSearchCV(clf, scoring='neg_log_loss', \n",
    "                                           param_distributions=param_dist, \n",
    "                                           n_iter=n_iter_search, cv=cv,\n",
    "                                           return_train_score=False, \n",
    "                                           n_jobs=16)\n",
    "\n",
    "        start = time()\n",
    "        random_search.fit(X, y)\n",
    "        gridSearchScores = pd.DataFrame(random_search.cv_results_)\n",
    "        gridSearchScores.sort_values(['mean_test_score'], axis=0, ascending=False, inplace=True)\n",
    "        gridSearchScores.head()\n",
    "\n",
    "        all_train_data[grp]['best_parameters'] = gridSearchScores.iloc[0,:]\n",
    "        bestParams.append(all_train_data[grp]['best_parameters'])\n",
    "    \n",
    "    now = datetime.datetime.now()\n",
    "    timestamp = now.strftime(\"%Y%m%d_%H%M\")\n",
    "    bestParamsDF = pd.DataFrame(bestParams, index=['A', 'B', 'C'])\n",
    "    bestParamsDF.to_csv('bestParametersAllThreeModels_adaboost_%s.txt'%(timestamp), sep='\\t', index_label='group')\n",
    "    print \"Best Parameters.....\\n\", bestParamsDF\n",
    "# else:\n",
    "#     print 'Using the previously optimized parameters......'\n",
    "#     bestParamsDF = pd.read_csv('bestParametersAllThreeModels_adaboost.txt', sep='\\t', index_col='group')"
   ]
  },
  {
   "cell_type": "markdown",
   "metadata": {},
   "source": [
    "### Training Phase"
   ]
  },
  {
   "cell_type": "code",
   "execution_count": null,
   "metadata": {
    "scrolled": false
   },
   "outputs": [],
   "source": [
    "## Train Model\n",
    "print \"\\nTraining Models.........\"\n",
    "trained_models = {}\n",
    "for grp in all_train_data:\n",
    "    trained_models[grp] = RandomForestClassifier(bootstrap=bestParamsDF.loc[grp, 'param_bootstrap'],\n",
    "                                     min_samples_leaf=bestParamsDF.loc[grp, 'param_min_samples_leaf'],\n",
    "                                     n_estimators=bestParamsDF.loc[grp, 'param_n_estimators'], \n",
    "                                     min_samples_split=bestParamsDF.loc[grp, 'param_min_samples_split'],\n",
    "                                     criterion=bestParamsDF.loc[grp, 'param_criterion'],\n",
    "                                     max_features=bestParamsDF.loc[grp, 'param_max_features'],\n",
    "                                     max_depth=bestParamsDF.loc[grp, 'param_max_depth'], n_jobs=8)\n",
    "    trained_models[grp] = AdaBoostClassifier(algorithm='SAMME.R', random_state=42, \n",
    "                                             n_estimators=bestParamsDF.loc[grp, 'param_n_estimators'])\n",
    "    trained_models[grp].fit(all_train_data[grp]['features'], all_train_data[grp]['labels'])"
   ]
  },
  {
   "cell_type": "markdown",
   "metadata": {},
   "source": [
    "### Testing Phase"
   ]
  },
  {
   "cell_type": "code",
   "execution_count": null,
   "metadata": {},
   "outputs": [],
   "source": [
    "## Predict\n",
    "print \"\\nTesting Models.........\"\n",
    "predictions = {}\n",
    "for grp in all_train_data:\n",
    "    predictions[grp] = trained_models[grp].predict_proba(all_test_data[grp]['features'])"
   ]
  },
  {
   "cell_type": "markdown",
   "metadata": {},
   "source": [
    "### Validate and Submit"
   ]
  },
  {
   "cell_type": "code",
   "execution_count": null,
   "metadata": {},
   "outputs": [],
   "source": [
    "# convert preds to data frames\n",
    "predictionsDF = {}\n",
    "for grp in all_train_data:\n",
    "    predictionsDF[grp] = make_country_sub(predictions[grp], all_test_data[grp]['features'], grp)\n",
    "\n",
    "submission = []\n",
    "submission = pd.concat([predictionsDF['A'], predictionsDF['B'], predictionsDF['C']])\n",
    "\n",
    "## Submission Format\n",
    "now = datetime.datetime.now()\n",
    "timestamp = now.strftime(\"%Y%m%d_%H%M\")\n",
    "submission.to_csv('../data/%s_submission.csv'%(timestamp))\n",
    "\n",
    "# no parameters unless we have a read_csv kwargs file\n",
    "v = DrivenDataValidator()\n",
    "\n",
    "if v.is_valid('../data/submission_format.csv', '../data/%s_submission.csv'%(timestamp)):\n",
    "    print \"I am awesome.\"\n",
    "else:\n",
    "    print \"I am not so cool.\""
   ]
  },
  {
   "cell_type": "code",
   "execution_count": null,
   "metadata": {},
   "outputs": [],
   "source": []
  },
  {
   "cell_type": "code",
   "execution_count": null,
   "metadata": {},
   "outputs": [],
   "source": []
  },
  {
   "cell_type": "code",
   "execution_count": null,
   "metadata": {},
   "outputs": [],
   "source": []
  },
  {
   "cell_type": "code",
   "execution_count": null,
   "metadata": {},
   "outputs": [],
   "source": []
  }
 ],
 "metadata": {
  "kernelspec": {
   "display_name": "Python 2",
   "language": "python",
   "name": "python2"
  },
  "language_info": {
   "codemirror_mode": {
    "name": "ipython",
    "version": 2
   },
   "file_extension": ".py",
   "mimetype": "text/x-python",
   "name": "python",
   "nbconvert_exporter": "python",
   "pygments_lexer": "ipython2",
   "version": "2.7.14"
  }
 },
 "nbformat": 4,
 "nbformat_minor": 2
}
