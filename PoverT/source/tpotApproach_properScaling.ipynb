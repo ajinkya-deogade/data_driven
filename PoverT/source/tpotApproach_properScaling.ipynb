{
 "cells": [
  {
   "cell_type": "code",
   "execution_count": 1,
   "metadata": {},
   "outputs": [],
   "source": [
    "#!/usr/local/bin/python3\n",
    "\n",
    "import os\n",
    "import sys\n",
    "from time import time\n",
    "import numpy as np\n",
    "import pandas as pd\n",
    "\n",
    "from sklearn.model_selection import StratifiedShuffleSplit\n",
    "from sklearn.metrics import roc_curve, auc, log_loss\n",
    "from scipy.stats import randint as sp_randint\n",
    "from scipy import interp\n",
    "from drivendata_validator import DrivenDataValidator\n",
    "import itertools\n",
    "from tpot import TPOTClassifier\n",
    "\n",
    "# data directory\n",
    "DATA_DIR = os.path.join('..', 'data', 'processed')"
   ]
  },
  {
   "cell_type": "code",
   "execution_count": 2,
   "metadata": {},
   "outputs": [],
   "source": [
    "## Make Submission DataFrame\n",
    "def make_country_sub(preds, test_feat, country):\n",
    "    # make sure we code the country correctly\n",
    "    country_codes = ['A', 'B', 'C']\n",
    "    \n",
    "    # get just the poor probabilities\n",
    "    country_sub = pd.DataFrame(data=preds[:, 1],  # proba p=1\n",
    "                               columns=['poor'], \n",
    "                               index=test_feat.index)\n",
    "\n",
    "    \n",
    "    # add the country code for joining later\n",
    "    country_sub[\"country\"] = country\n",
    "    return country_sub[[\"country\", \"poor\"]]\n",
    "\n",
    "# Utility function to report best scores\n",
    "def report(results, n_top=3):\n",
    "    for i in range(1, n_top + 1):\n",
    "        candidates = np.flatnonzero(results['rank_test_score'] == i)\n",
    "        for candidate in candidates:\n",
    "            print(\"Model with rank: {0}\".format(i))\n",
    "            print(\"Mean validation score: {0:.3f} (std: {1:.3f})\".format(\n",
    "                  results['mean_test_score'][candidate],\n",
    "                  results['std_test_score'][candidate]))\n",
    "            print(\"Parameters: {0}\".format(results['params'][candidate]))\n",
    "            print(\"\")"
   ]
  },
  {
   "cell_type": "markdown",
   "metadata": {},
   "source": [
    "##### Household-level survey data: \n",
    "This is obfuscated data from surveys conducted by The World Bank, focusing on household-level statistics. The data come from three different countries, and are separated into different files for convenience.\n",
    "\n",
    "##### Individual-level survey data: \n",
    "This is obfuscated data from related surveys conducted by The World Bank, only these focus on individual-level statistics. The set of interviewees and countries involved are the same as the household data, as indicated by shared id indices, but this data includes detailed (obfuscated) information about household members.\n",
    "\n",
    "##### Submission format:\n",
    "This gives us the filenames and columns of our submission prediction, filled with all 0.5 as a baseline."
   ]
  },
  {
   "cell_type": "code",
   "execution_count": 3,
   "metadata": {},
   "outputs": [],
   "source": [
    "## define data paths\n",
    "data_paths = {'A': {'train': os.path.join(DATA_DIR, 'A', 'A_hhold_train.csv'), \n",
    "                    'test':  os.path.join(DATA_DIR, 'A', 'A_hhold_test.csv')}, \n",
    "              \n",
    "              'B': {'train': os.path.join(DATA_DIR, 'B', 'B_hhold_train.csv'), \n",
    "                    'test':  os.path.join(DATA_DIR, 'B', 'B_hhold_test.csv')}, \n",
    "              \n",
    "              'C': {'train': os.path.join(DATA_DIR, 'C', 'C_hhold_train.csv'), \n",
    "                    'test':  os.path.join(DATA_DIR, 'C', 'C_hhold_test.csv')}}"
   ]
  },
  {
   "cell_type": "code",
   "execution_count": 4,
   "metadata": {},
   "outputs": [],
   "source": [
    "# load training data\n",
    "a_train = pd.read_csv(data_paths['A']['train'], index_col='id')\n",
    "b_train = pd.read_csv(data_paths['B']['train'], index_col='id')\n",
    "c_train = pd.read_csv(data_paths['C']['train'], index_col='id')\n",
    "\n",
    "# load test data\n",
    "a_test = pd.read_csv(data_paths['A']['test'], index_col='id')\n",
    "b_test = pd.read_csv(data_paths['B']['test'], index_col='id')\n",
    "c_test = pd.read_csv(data_paths['C']['test'], index_col='id')"
   ]
  },
  {
   "cell_type": "markdown",
   "metadata": {},
   "source": [
    "#### The first thing to notice is that each country's surveys have wildly different numbers of columns, so we'll plan on training separate models for each country and combining our predictions for submission at the end."
   ]
  },
  {
   "cell_type": "markdown",
   "metadata": {},
   "source": [
    "### Pre-process Data"
   ]
  },
  {
   "cell_type": "code",
   "execution_count": 6,
   "metadata": {},
   "outputs": [
    {
     "name": "stdout",
     "output_type": "stream",
     "text": [
      "Preprocessing Training\n",
      "Country A\n",
      "Input shape:\t(8203, 344)\n",
      "After standardization (8203, 344)\n",
      "After converting categoricals:\t(8203, 859)\n",
      "\n",
      "Country B\n",
      "Input shape:\t(3255, 441)\n",
      "After standardization (3255, 441)\n",
      "After converting categoricals:\t(3255, 1432)\n",
      "\n",
      "Country C\n",
      "Input shape:\t(6469, 163)\n",
      "After standardization (6469, 163)\n",
      "After converting categoricals:\t(6469, 795)\n",
      "\n",
      "\n",
      "Preprocessing Testing\n",
      "Country A\n",
      "Input shape:\t(4041, 344)\n",
      "After standardization (4041, 344)\n",
      "After converting categoricals:\t(4041, 851)\n",
      "Country B\n",
      "Input shape:\t(1604, 441)\n",
      "After standardization (1604, 441)\n",
      "After converting categoricals:\t(1604, 1419)\n",
      "Country C\n",
      "Input shape:\t(3187, 163)\n",
      "After standardization (3187, 163)\n",
      "After converting categoricals:\t(3187, 773)\n"
     ]
    }
   ],
   "source": [
    "def pre_process_train_test_data(train, test):\n",
    "    labels = np.ravel(train.poor)\n",
    "    train = pd.get_dummies(train.drop('poor', axis=1))\n",
    "    test =  pd.get_dummies(test)\n",
    "\n",
    "    # match test set and training set columns\n",
    "    to_drop = np.setdiff1d(test.columns, train.columns)\n",
    "    to_add = np.setdiff1d(train.columns, test.columns)\n",
    "\n",
    "    test.drop(to_drop, axis=1, inplace=True)\n",
    "    test = test.assign(**{c: 0 for c in to_add})\n",
    "    \n",
    "    train.fillna(0, inplace=True)\n",
    "    test.fillna(0, inplace=True)\n",
    "\n",
    "    test_indices = test.index\n",
    "    train_indices = train.index\n",
    "    train_test = pd.concat([train, test])\n",
    "\n",
    "    print(\"Shapes before transformation\")\n",
    "    print(\"Train : \", train.shape)\n",
    "    print(\"Test : \", test.shape)\n",
    "    print(\"Train + Test : \", train_test.shape)\n",
    "\n",
    "    numeric_vals = train_test.select_dtypes(include=['int64', 'float64'])\n",
    "    scaler = StandardScaler()\n",
    "    train_test[numeric_vals.columns] = scaler.fit_transform(numeric_vals)\n",
    "\n",
    "    train = train_test.loc[train_indices, :]\n",
    "    test  = train_test.loc[test_indices, :]\n",
    "    \n",
    "    train['poor'] = labels\n",
    "    \n",
    "    print(\"Shapes after transformation\")\n",
    "    print(\"Train : \", train.shape)\n",
    "    print(\"Test : \",  test.shape)\n",
    "    \n",
    "    return train, test\n",
    "\n",
    "print(\"Preprocessing Training\")\n",
    "print(\"Country A\")\n",
    "a_train, a_test = pre_process_train_test_data(a_train, a_test)\n",
    "aX_train = a_train.drop('poor', axis=1)\n",
    "ay_train = np.ravel(a_train.poor)\n",
    "\n",
    "print(\"\\nCountry B\")\n",
    "b_train, b_test = pre_process_train_test_data(b_train, b_test)\n",
    "bX_train = b_train.drop('poor', axis=1)\n",
    "by_train = np.ravel(b_train.poor)\n",
    "\n",
    "print(\"\\nCountry C\")\n",
    "c_train, c_test = pre_process_train_test_data(c_train, c_test)\n",
    "cX_train = c_train.drop('poor', axis=1)\n",
    "cy_train = np.ravel(c_train.poor)"
   ]
  },
  {
   "cell_type": "code",
   "execution_count": 7,
   "metadata": {},
   "outputs": [],
   "source": [
    "## restructure train data\n",
    "all_train_data = {'A': {'features': aX_train, \n",
    "                    'labels': ay_train},\n",
    "                  'B': {'features': bX_train,\n",
    "                        'labels':  by_train}, \n",
    "                  'C': {'features': cX_train, \n",
    "                        'labels':  cy_train}}\n",
    "\n",
    "## restructure test data\n",
    "all_test_data = {'A': {'features': a_test},\n",
    "                 'B': {'features': b_test},\n",
    "                 'C': {'features': c_test}}"
   ]
  },
  {
   "cell_type": "markdown",
   "metadata": {},
   "source": [
    "### Cross-validation -- Tune Parameters"
   ]
  },
  {
   "cell_type": "code",
   "execution_count": 8,
   "metadata": {
    "scrolled": false
   },
   "outputs": [],
   "source": [
    "tune_params = 1\n",
    "if tune_params > 0:\n",
    "    bestParams = []\n",
    "    cv = StratifiedShuffleSplit(n_splits=5, test_size=0.5, random_state=42)\n",
    "    for grp in all_train_data:\n",
    "\n",
    "        X = all_train_data[grp]['features'].values.astype(np.float32)\n",
    "        y = all_train_data[grp]['labels'].astype(np.int16)\n",
    "\n",
    "        pipeline_optimizer = TPOTClassifier(scoring='neg_log_loss', cv=cv, \n",
    "                                            periodic_checkpoint_folder='../data/tpot_best_models_%s/'%(grp),\n",
    "                                            n_jobs=16, random_state=42, verbosity=3, memory='auto',\n",
    "                                            generations=30, max_eval_time_mins=10)\n",
    "        pipeline_optimizer.fit(X, y)\n",
    "        pipeline_optimizer.export('tpot_best_model_pipeline_%s.py'%(grp))"
   ]
  },
  {
   "cell_type": "markdown",
   "metadata": {},
   "source": [
    "### Training Phase"
   ]
  },
  {
   "cell_type": "code",
   "execution_count": 12,
   "metadata": {},
   "outputs": [
    {
     "data": {
      "text/plain": [
       "Pipeline(memory=None,\n",
       "     steps=[('featureunion', FeatureUnion(n_jobs=1,\n",
       "       transformer_list=[('functiontransformer', FunctionTransformer(accept_sparse=False, func=<function copy at 0x101e66f50>,\n",
       "          inv_kw_args=None, inverse_func=None, kw_args=None,\n",
       "          pass_y='deprecated', validate=True)), ('stackingestimat...n_jobs=1,\n",
       "            oob_score=False, random_state=None, verbose=0,\n",
       "            warm_start=False))])"
      ]
     },
     "execution_count": 12,
     "metadata": {},
     "output_type": "execute_result"
    }
   ],
   "source": [
    "# trained_models = {}\n",
    "\n",
    "# ## Train Model A\n",
    "# from sklearn.ensemble import GradientBoostingClassifier\n",
    "# trained_models['A'] = GradientBoostingClassifier(learning_rate=0.1, max_depth=7, \n",
    "#                                                  max_features=0.5, min_samples_leaf=14, \n",
    "#                                                  min_samples_split=20, n_estimators=100, subsample=0.6)\n",
    "# trained_models['A'].fit(all_train_data['A']['features'], all_train_data['A']['labels'])\n",
    "\n",
    "# ## Train Model B\n",
    "# from sklearn.preprocessing import FunctionTransformer\n",
    "# from sklearn.pipeline import make_pipeline, make_union\n",
    "# from sklearn.linear_model import LogisticRegression\n",
    "# from copy import copy\n",
    "\n",
    "# trained_models['B'] = make_pipeline(make_union(FunctionTransformer(copy), \n",
    "#                                                FunctionTransformer(copy)),\n",
    "#                                     LogisticRegression(C=0.01, dual=True, penalty=\"l2\"))\n",
    "\n",
    "# trained_models['B'].fit(all_train_data['B']['features'], all_train_data['B']['labels'])\n",
    "\n",
    "# ## Train Model C\n",
    "# from sklearn.naive_bayes import BernoulliNB\n",
    "# from sklearn.ensemble import RandomForestClassifier\n",
    "# from tpot.builtins import StackingEstimator\n",
    "\n",
    "# trained_models['C'] = make_pipeline(\n",
    "#     make_union(FunctionTransformer(copy), \n",
    "#                StackingEstimator(estimator=BernoulliNB(alpha=1.0, fit_prior=False))),\n",
    "#     RandomForestClassifier(bootstrap=True, criterion=\"entropy\", \n",
    "#                            max_features=0.8, min_samples_leaf=6, \n",
    "#                            min_samples_split=19, n_estimators=100))\n",
    "\n",
    "# trained_models['C'].fit(all_train_data['C']['features'], all_train_data['C']['labels'])"
   ]
  },
  {
   "cell_type": "markdown",
   "metadata": {},
   "source": [
    "### Testing Phase"
   ]
  },
  {
   "cell_type": "code",
   "execution_count": 13,
   "metadata": {},
   "outputs": [],
   "source": [
    "# # ## Predict\n",
    "# predictions = {}\n",
    "# for grp in all_train_data:\n",
    "#     predictions[grp] = trained_models[grp].predict_proba(all_test_data[grp]['features'])"
   ]
  },
  {
   "cell_type": "markdown",
   "metadata": {},
   "source": [
    "### Validate and Submit"
   ]
  },
  {
   "cell_type": "code",
   "execution_count": 14,
   "metadata": {},
   "outputs": [
    {
     "name": "stdout",
     "output_type": "stream",
     "text": [
      "I am awesome.\n"
     ]
    }
   ],
   "source": [
    "# # convert preds to data frames\n",
    "# predictionsDF = {}\n",
    "# for grp in all_train_data:\n",
    "#     predictionsDF[grp] = make_country_sub(predictions[grp], all_test_data[grp]['features'], grp)\n",
    "\n",
    "# submission = []\n",
    "# submission = pd.concat([predictionsDF['A'], predictionsDF['B'], predictionsDF['C']])\n",
    "\n",
    "# ## Submission Format\n",
    "# submission.to_csv('../data/my_submission.csv')\n",
    "\n",
    "# # no parameters unless we have a read_csv kwargs file\n",
    "# v = DrivenDataValidator()\n",
    "\n",
    "# if v.is_valid('../data/submission_format.csv', '../data/my_submission.csv'):\n",
    "#     print \"I am awesome.\"\n",
    "# else:\n",
    "#     print \"I am not so cool.\"\n"
   ]
  },
  {
   "cell_type": "code",
   "execution_count": null,
   "metadata": {},
   "outputs": [],
   "source": []
  }
 ],
 "metadata": {
  "kernelspec": {
   "display_name": "Python 2",
   "language": "python",
   "name": "python2"
  },
  "language_info": {
   "codemirror_mode": {
    "name": "ipython",
    "version": 2
   },
   "file_extension": ".py",
   "mimetype": "text/x-python",
   "name": "python",
   "nbconvert_exporter": "python",
   "pygments_lexer": "ipython2",
   "version": "2.7.14"
  }
 },
 "nbformat": 4,
 "nbformat_minor": 2
}
