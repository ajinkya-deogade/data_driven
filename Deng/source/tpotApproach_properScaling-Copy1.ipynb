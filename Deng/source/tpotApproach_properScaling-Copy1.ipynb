{
 "cells": [
  {
   "cell_type": "code",
   "execution_count": 1,
   "metadata": {
    "ExecuteTime": {
     "end_time": "2018-08-26T01:30:52.857672Z",
     "start_time": "2018-08-26T01:30:50.147435Z"
    }
   },
   "outputs": [],
   "source": [
    "#!/usr/local/bin/python3\n",
    "\n",
    "import os\n",
    "import sys\n",
    "from time import time\n",
    "import numpy as np\n",
    "import pandas as pd\n",
    "\n",
    "from sklearn.model_selection import StratifiedShuffleSplit\n",
    "from sklearn.metrics import roc_curve, auc, log_loss\n",
    "from scipy.stats import randint as sp_randint\n",
    "from scipy import interp\n",
    "from drivendata_validator import DrivenDataValidator\n",
    "import itertools\n",
    "from tpot import TPOTRegressor\n",
    "import matplotlib.pyplot as plt\n",
    "import seaborn as sns\n",
    "from sklearn.preprocessing import StandardScaler\n",
    "\n",
    "# data directory\n",
    "DATA_DIR = os.path.join('..', 'data')"
   ]
  },
  {
   "cell_type": "code",
   "execution_count": 2,
   "metadata": {
    "ExecuteTime": {
     "end_time": "2018-08-26T01:30:52.880021Z",
     "start_time": "2018-08-26T01:30:52.863308Z"
    }
   },
   "outputs": [],
   "source": [
    "## Make Submission DataFrame\n",
    "def make_country_sub(preds, test_feat, country):\n",
    "    # make sure we code the country correctly\n",
    "    country_codes = ['A', 'B', 'C']\n",
    "    \n",
    "    # get just the poor probabilities\n",
    "    country_sub = pd.DataFrame(data=preds[:, 1],  # proba p=1\n",
    "                               columns=['poor'], \n",
    "                               index=test_feat.index)\n",
    "\n",
    "    \n",
    "    # add the country code for joining later\n",
    "    country_sub[\"country\"] = country\n",
    "    return country_sub[[\"country\", \"poor\"]]\n",
    "\n",
    "# Utility function to report best scores\n",
    "def report(results, n_top=3):\n",
    "    for i in range(1, n_top + 1):\n",
    "        candidates = np.flatnonzero(results['rank_test_score'] == i)\n",
    "        for candidate in candidates:\n",
    "            print(\"Model with rank: {0}\".format(i))\n",
    "            print(\"Mean validation score: {0:.3f} (std: {1:.3f})\".format(\n",
    "                  results['mean_test_score'][candidate],\n",
    "                  results['std_test_score'][candidate]))\n",
    "            print(\"Parameters: {0}\".format(results['params'][candidate]))\n",
    "            print(\"\")"
   ]
  },
  {
   "cell_type": "markdown",
   "metadata": {},
   "source": [
    "##### Household-level survey data: \n",
    "This is obfuscated data from surveys conducted by The World Bank, focusing on household-level statistics. The data come from three different countries, and are separated into different files for convenience.\n",
    "\n",
    "##### Individual-level survey data: \n",
    "This is obfuscated data from related surveys conducted by The World Bank, only these focus on individual-level statistics. The set of interviewees and countries involved are the same as the household data, as indicated by shared id indices, but this data includes detailed (obfuscated) information about household members.\n",
    "\n",
    "##### Submission format:\n",
    "This gives us the filenames and columns of our submission prediction, filled with all 0.5 as a baseline."
   ]
  },
  {
   "cell_type": "code",
   "execution_count": 3,
   "metadata": {
    "ExecuteTime": {
     "end_time": "2018-08-26T01:30:52.892622Z",
     "start_time": "2018-08-26T01:30:52.885133Z"
    }
   },
   "outputs": [],
   "source": [
    "## define data paths\n",
    "data_paths = {'train_x': os.path.join(DATA_DIR, 'dengue_features_train.csv'),\n",
    "              'train_y': os.path.join(DATA_DIR, 'dengue_labels_train.csv'),\n",
    "               'test_x':  os.path.join(DATA_DIR, 'dengue_features_test.csv')}"
   ]
  },
  {
   "cell_type": "code",
   "execution_count": 4,
   "metadata": {
    "ExecuteTime": {
     "end_time": "2018-08-26T01:30:52.936015Z",
     "start_time": "2018-08-26T01:30:52.898191Z"
    },
    "scrolled": true
   },
   "outputs": [],
   "source": [
    "# load training data\n",
    "X_train = pd.read_csv(data_paths['train_x'])\n",
    "y_train = pd.read_csv(data_paths['train_y'])\n",
    "X_train.drop(columns='week_start_date', inplace=True)\n",
    "\n",
    "# load test data\n",
    "X_test = pd.read_csv(data_paths['test_x'])\n",
    "X_test.drop(columns='week_start_date', inplace=True)"
   ]
  },
  {
   "cell_type": "markdown",
   "metadata": {},
   "source": [
    "#### The first thing to notice is that each country's surveys have wildly different numbers of columns, so we'll plan on training separate models for each country and combining our predictions for submission at the end."
   ]
  },
  {
   "cell_type": "markdown",
   "metadata": {},
   "source": [
    "### Pre-process Data"
   ]
  },
  {
   "cell_type": "code",
   "execution_count": 5,
   "metadata": {
    "ExecuteTime": {
     "end_time": "2018-08-26T01:30:52.960115Z",
     "start_time": "2018-08-26T01:30:52.941958Z"
    }
   },
   "outputs": [
    {
     "name": "stdout",
     "output_type": "stream",
     "text": [
      "Shapes before transformation\n",
      "('Train : ', (1456, 23))\n",
      "('Train Labels : ', (1456, 4))\n",
      "('Test : ', (416, 23))\n",
      "('Columns : ', Index([u'city', u'year', u'weekofyear', u'ndvi_ne', u'ndvi_nw', u'ndvi_se',\n",
      "       u'ndvi_sw', u'precipitation_amt_mm', u'reanalysis_air_temp_k',\n",
      "       u'reanalysis_avg_temp_k', u'reanalysis_dew_point_temp_k',\n",
      "       u'reanalysis_max_air_temp_k', u'reanalysis_min_air_temp_k',\n",
      "       u'reanalysis_precip_amt_kg_per_m2',\n",
      "       u'reanalysis_relative_humidity_percent',\n",
      "       u'reanalysis_sat_precip_amt_mm',\n",
      "       u'reanalysis_specific_humidity_g_per_kg', u'reanalysis_tdtr_k',\n",
      "       u'station_avg_temp_c', u'station_diur_temp_rng_c',\n",
      "       u'station_max_temp_c', u'station_min_temp_c', u'station_precip_mm'],\n",
      "      dtype='object'))\n"
     ]
    }
   ],
   "source": [
    "print(\"Shapes before transformation\")\n",
    "print(\"Train : \", X_train.shape)\n",
    "print(\"Train Labels : \", y_train.shape)\n",
    "print(\"Test : \", X_test.shape)\n",
    "print(\"Columns : \", X_train.columns)\n",
    "train_data = pd.merge(X_train, y_train, on=['city', 'year', 'weekofyear'])\n",
    "train_data.index = np.arange(0, train_data.shape[0])\n",
    "X_test.index = np.arange(train_data.shape[0]+1, train_data.shape[0]+X_test.shape[0]+1)"
   ]
  },
  {
   "cell_type": "code",
   "execution_count": 6,
   "metadata": {
    "ExecuteTime": {
     "end_time": "2018-08-26T01:30:53.082187Z",
     "start_time": "2018-08-26T01:30:52.964843Z"
    }
   },
   "outputs": [
    {
     "name": "stdout",
     "output_type": "stream",
     "text": [
      "Preprocessing Training\n",
      "Shapes before transformation\n",
      "('Train : ', (1456, 24))\n",
      "('Test : ', (416, 24))\n",
      "('Train + Test : ', (1872, 24))\n",
      "Shapes after transformation\n",
      "('Train : ', (1456, 25))\n",
      "('Test : ', (416, 24))\n"
     ]
    }
   ],
   "source": [
    "def pre_process_train_test_data(train, test, label_var, exclude_scaling):\n",
    "    labels = np.ravel(train[label_var])\n",
    "    train = pd.get_dummies(train.drop(label_var, axis=1))\n",
    "    test = pd.get_dummies(test)\n",
    "\n",
    "    # match test set and training set columns\n",
    "    to_drop = np.setdiff1d(test.columns, train.columns)\n",
    "    to_add = np.setdiff1d(train.columns, test.columns)\n",
    "\n",
    "    test.drop(to_drop, axis=1, inplace=True)\n",
    "    test = test.assign(**{c: 0 for c in to_add})\n",
    "\n",
    "    train.fillna(0, inplace=True)\n",
    "    test.fillna(0, inplace=True)\n",
    "\n",
    "    test_indices = test.index\n",
    "    train_indices = train.index\n",
    "    train_test = pd.concat([train, test])\n",
    "    train_test.sort_values(['year', 'weekofyear'], inplace=True)\n",
    "    train_test.interpolate(method='linear', inplace=True)\n",
    "\n",
    "    print(\"Shapes before transformation\")\n",
    "    print(\"Train : \", train.shape)\n",
    "    print(\"Test : \", test.shape)\n",
    "    print(\"Train + Test : \", train_test.shape)\n",
    "\n",
    "    numeric_vals = train_test.select_dtypes(include=['int64', 'float64'])\n",
    "    numeric_vals = numeric_vals.loc[:, [x for x in list(numeric_vals.columns.values) if x not in exclude_scaling]]\n",
    "    scaler = StandardScaler()\n",
    "    train_test[numeric_vals.columns] = scaler.fit_transform(numeric_vals)\n",
    "\n",
    "    train = train_test.loc[train_indices, :]\n",
    "    test = train_test.loc[test_indices, :]\n",
    "\n",
    "    train[label_var] = labels\n",
    "\n",
    "    print(\"Shapes after transformation\")\n",
    "    print(\"Train : \", train.shape)\n",
    "    print(\"Test : \",  test.shape)\n",
    "\n",
    "    return train, test\n",
    "\n",
    "\n",
    "print(\"Preprocessing Training\")\n",
    "label_var = 'total_cases'\n",
    "exclude_scaling = ['year', 'weekofyear']\n",
    "a_train, a_test = pre_process_train_test_data(train_data, X_test, label_var, exclude_scaling)\n",
    "X_train = a_train.drop(label_var, axis=1)\n",
    "y_train = np.ravel(a_train[label_var])"
   ]
  },
  {
   "cell_type": "code",
   "execution_count": 7,
   "metadata": {
    "ExecuteTime": {
     "end_time": "2018-08-26T01:30:53.098888Z",
     "start_time": "2018-08-26T01:30:53.087269Z"
    }
   },
   "outputs": [
    {
     "data": {
      "text/plain": [
       "array([], dtype=object)"
      ]
     },
     "execution_count": 7,
     "metadata": {},
     "output_type": "execute_result"
    }
   ],
   "source": [
    "np.setdiff1d(a_test.columns.values, X_train.columns.values)"
   ]
  },
  {
   "cell_type": "code",
   "execution_count": 8,
   "metadata": {
    "ExecuteTime": {
     "end_time": "2018-08-26T01:30:53.109980Z",
     "start_time": "2018-08-26T01:30:53.103930Z"
    }
   },
   "outputs": [],
   "source": [
    "## restructure train data\n",
    "all_train_data = {'features': X_train,\n",
    "                  'labels': y_train}\n",
    "\n",
    "## restructure test data\n",
    "all_test_data = {'features': a_test}"
   ]
  },
  {
   "cell_type": "markdown",
   "metadata": {},
   "source": [
    "### Cross-validation -- Tune Parameters"
   ]
  },
  {
   "cell_type": "code",
   "execution_count": 9,
   "metadata": {
    "ExecuteTime": {
     "end_time": "2018-08-26T01:30:53.124643Z",
     "start_time": "2018-08-26T01:30:53.116606Z"
    }
   },
   "outputs": [],
   "source": [
    "X = all_train_data['features'].values.astype(np.float32)\n",
    "y = all_train_data['labels'].astype(np.int16)\n",
    "X_test = all_test_data['features'].values.astype(np.float32)"
   ]
  },
  {
   "cell_type": "code",
   "execution_count": 15,
   "metadata": {
    "ExecuteTime": {
     "end_time": "2018-08-26T01:35:50.040687Z",
     "start_time": "2018-08-26T01:35:40.602149Z"
    },
    "scrolled": false
   },
   "outputs": [
    {
     "name": "stdout",
     "output_type": "stream",
     "text": [
      "Warning: xgboost.XGBRegressor is not available and will not be used by TPOT.\n",
      "28 operators have been imported by TPOT.\n"
     ]
    },
    {
     "name": "stderr",
     "output_type": "stream",
     "text": [
      "                                                                       \r"
     ]
    },
    {
     "ename": "RuntimeError",
     "evalue": "A pipeline has not yet been optimized. Please call fit() first.",
     "output_type": "error",
     "traceback": [
      "\u001b[0;31m---------------------------------------------------------------------------\u001b[0m",
      "\u001b[0;31mRuntimeError\u001b[0m                              Traceback (most recent call last)",
      "\u001b[0;32m<ipython-input-15-4d67c55fe64e>\u001b[0m in \u001b[0;36m<module>\u001b[0;34m()\u001b[0m\n\u001b[1;32m      9\u001b[0m                                         \u001b[0mn_jobs\u001b[0m\u001b[0;34m=\u001b[0m\u001b[0;36m1\u001b[0m\u001b[0;34m,\u001b[0m \u001b[0mrandom_state\u001b[0m\u001b[0;34m=\u001b[0m\u001b[0;36m42\u001b[0m\u001b[0;34m,\u001b[0m \u001b[0mverbosity\u001b[0m\u001b[0;34m=\u001b[0m\u001b[0;36m3\u001b[0m\u001b[0;34m,\u001b[0m \u001b[0mmemory\u001b[0m\u001b[0;34m=\u001b[0m\u001b[0;34m'auto'\u001b[0m\u001b[0;34m,\u001b[0m\u001b[0;34m\u001b[0m\u001b[0m\n\u001b[1;32m     10\u001b[0m                                         generations=1000, max_eval_time_mins=10)\n\u001b[0;32m---> 11\u001b[0;31m     \u001b[0mpipeline_optimizer\u001b[0m\u001b[0;34m.\u001b[0m\u001b[0mfit\u001b[0m\u001b[0;34m(\u001b[0m\u001b[0mX\u001b[0m\u001b[0;34m,\u001b[0m \u001b[0my\u001b[0m\u001b[0;34m)\u001b[0m\u001b[0;34m\u001b[0m\u001b[0m\n\u001b[0m\u001b[1;32m     12\u001b[0m \u001b[0;31m#     pipeline_optimizer.export('tpot_best_model_pipeline.py')\u001b[0m\u001b[0;34m\u001b[0m\u001b[0;34m\u001b[0m\u001b[0m\n",
      "\u001b[0;32m/Users/ajinkyadeogade/anaconda2/envs/py37/lib/python2.7/site-packages/tpot/base.pyc\u001b[0m in \u001b[0;36mfit\u001b[0;34m(self, features, target, sample_weight, groups)\u001b[0m\n\u001b[1;32m    648\u001b[0m                     \u001b[0;31m# raise the exception if it's our last attempt\u001b[0m\u001b[0;34m\u001b[0m\u001b[0;34m\u001b[0m\u001b[0m\n\u001b[1;32m    649\u001b[0m                     \u001b[0;32mif\u001b[0m \u001b[0mattempt\u001b[0m \u001b[0;34m==\u001b[0m \u001b[0;34m(\u001b[0m\u001b[0mattempts\u001b[0m \u001b[0;34m-\u001b[0m \u001b[0;36m1\u001b[0m\u001b[0;34m)\u001b[0m\u001b[0;34m:\u001b[0m\u001b[0;34m\u001b[0m\u001b[0m\n\u001b[0;32m--> 650\u001b[0;31m                         \u001b[0;32mraise\u001b[0m \u001b[0me\u001b[0m\u001b[0;34m\u001b[0m\u001b[0m\n\u001b[0m\u001b[1;32m    651\u001b[0m             \u001b[0;32mreturn\u001b[0m \u001b[0mself\u001b[0m\u001b[0;34m\u001b[0m\u001b[0m\n\u001b[1;32m    652\u001b[0m \u001b[0;34m\u001b[0m\u001b[0m\n",
      "\u001b[0;31mRuntimeError\u001b[0m: A pipeline has not yet been optimized. Please call fit() first."
     ]
    }
   ],
   "source": [
    "tune_params = 1\n",
    "if tune_params > 0:\n",
    "    bestParams = []\n",
    "    cv = StratifiedShuffleSplit(n_splits=5, test_size=0.5, random_state=42)\n",
    "    X = all_train_data['features'].values.astype(np.float32)\n",
    "    y = all_train_data['labels'].astype(np.int16)\n",
    "    pipeline_optimizer = TPOTRegressor(scoring='neg_mean_absolute_error', cv=cv, \n",
    "                                        periodic_checkpoint_folder='../data/tpot_best_models/',\n",
    "                                        n_jobs=1, random_state=42, verbosity=3, memory='auto',\n",
    "                                        generations=1000, max_eval_time_mins=10)\n",
    "    pipeline_optimizer.fit(X, y)\n",
    "    pipeline_optimizer.export('tpot_best_model_pipeline.py')"
   ]
  },
  {
   "cell_type": "code",
   "execution_count": 16,
   "metadata": {
    "ExecuteTime": {
     "end_time": "2018-08-26T01:36:52.030521Z",
     "start_time": "2018-08-26T01:36:52.021165Z"
    }
   },
   "outputs": [
    {
     "data": {
      "text/plain": [
       "(1456, 24)"
      ]
     },
     "execution_count": 16,
     "metadata": {},
     "output_type": "execute_result"
    }
   ],
   "source": [
    "X.shape"
   ]
  },
  {
   "cell_type": "code",
   "execution_count": 17,
   "metadata": {
    "ExecuteTime": {
     "end_time": "2018-08-26T01:37:04.863607Z",
     "start_time": "2018-08-26T01:37:04.856965Z"
    }
   },
   "outputs": [
    {
     "data": {
      "text/plain": [
       "(1456,)"
      ]
     },
     "execution_count": 17,
     "metadata": {},
     "output_type": "execute_result"
    }
   ],
   "source": [
    "y.shape"
   ]
  },
  {
   "cell_type": "code",
   "execution_count": null,
   "metadata": {},
   "outputs": [],
   "source": []
  },
  {
   "cell_type": "markdown",
   "metadata": {},
   "source": [
    "### Training Phase"
   ]
  },
  {
   "cell_type": "code",
   "execution_count": null,
   "metadata": {
    "ExecuteTime": {
     "end_time": "2018-08-26T01:31:03.361115Z",
     "start_time": "2018-08-26T01:30:50.133Z"
    }
   },
   "outputs": [],
   "source": [
    "# trained_models = {}\n",
    "\n",
    "# ## Train Model A\n",
    "# from sklearn.ensemble import GradientBoostingClassifier\n",
    "# trained_models['A'] = GradientBoostingClassifier(learning_rate=0.1, max_depth=7, \n",
    "#                                                  max_features=0.5, min_samples_leaf=14, \n",
    "#                                                  min_samples_split=20, n_estimators=100, subsample=0.6)\n",
    "# trained_models['A'].fit(all_train_data['A']['features'], all_train_data['A']['labels'])\n",
    "\n",
    "# ## Train Model B\n",
    "# from sklearn.preprocessing import FunctionTransformer\n",
    "# from sklearn.pipeline import make_pipeline, make_union\n",
    "# from sklearn.linear_model import LogisticRegression\n",
    "# from copy import copy\n",
    "\n",
    "# trained_models['B'] = make_pipeline(make_union(FunctionTransformer(copy), \n",
    "#                                                FunctionTransformer(copy)),\n",
    "#                                     LogisticRegression(C=0.01, dual=True, penalty=\"l2\"))\n",
    "\n",
    "# trained_models['B'].fit(all_train_data['B']['features'], all_train_data['B']['labels'])\n",
    "\n",
    "# ## Train Model C\n",
    "# from sklearn.naive_bayes import BernoulliNB\n",
    "# from sklearn.ensemble import RandomForestClassifier\n",
    "# from tpot.builtins import StackingEstimator\n",
    "\n",
    "# trained_models['C'] = make_pipeline(\n",
    "#     make_union(FunctionTransformer(copy), \n",
    "#                StackingEstimator(estimator=BernoulliNB(alpha=1.0, fit_prior=False))),\n",
    "#     RandomForestClassifier(bootstrap=True, criterion=\"entropy\", \n",
    "#                            max_features=0.8, min_samples_leaf=6, \n",
    "#                            min_samples_split=19, n_estimators=100))\n",
    "\n",
    "# trained_models['C'].fit(all_train_data['C']['features'], all_train_data['C']['labels'])"
   ]
  },
  {
   "cell_type": "markdown",
   "metadata": {},
   "source": [
    "### Testing Phase"
   ]
  },
  {
   "cell_type": "code",
   "execution_count": null,
   "metadata": {
    "ExecuteTime": {
     "end_time": "2018-08-26T01:31:03.363894Z",
     "start_time": "2018-08-26T01:30:50.136Z"
    }
   },
   "outputs": [],
   "source": [
    "# # ## Predict\n",
    "# predictions = {}\n",
    "# for grp in all_train_data:\n",
    "#     predictions[grp] = trained_models[grp].predict_proba(all_test_data[grp]['features'])"
   ]
  },
  {
   "cell_type": "markdown",
   "metadata": {},
   "source": [
    "### Validate and Submit"
   ]
  },
  {
   "cell_type": "code",
   "execution_count": null,
   "metadata": {
    "ExecuteTime": {
     "end_time": "2018-08-26T01:31:03.365607Z",
     "start_time": "2018-08-26T01:30:50.138Z"
    }
   },
   "outputs": [],
   "source": [
    "# # convert preds to data frames\n",
    "# predictionsDF = {}\n",
    "# for grp in all_train_data:\n",
    "#     predictionsDF[grp] = make_country_sub(predictions[grp], all_test_data[grp]['features'], grp)\n",
    "\n",
    "# submission = []\n",
    "# submission = pd.concat([predictionsDF['A'], predictionsDF['B'], predictionsDF['C']])\n",
    "\n",
    "# ## Submission Format\n",
    "# submission.to_csv('../data/my_submission.csv')\n",
    "\n",
    "# # no parameters unless we have a read_csv kwargs file\n",
    "# v = DrivenDataValidator()\n",
    "\n",
    "# if v.is_valid('../data/submission_format.csv', '../data/my_submission.csv'):\n",
    "#     print \"I am awesome.\"\n",
    "# else:\n",
    "#     print \"I am not so cool.\"\n"
   ]
  },
  {
   "cell_type": "code",
   "execution_count": null,
   "metadata": {
    "ExecuteTime": {
     "end_time": "2018-08-26T01:31:03.367888Z",
     "start_time": "2018-08-26T01:30:50.142Z"
    }
   },
   "outputs": [],
   "source": [
    "from sklearn.datasets import load_digits\n",
    "\n",
    "digits = load_digits()"
   ]
  },
  {
   "cell_type": "code",
   "execution_count": null,
   "metadata": {},
   "outputs": [],
   "source": []
  }
 ],
 "metadata": {
  "kernelspec": {
   "display_name": "py37",
   "language": "python",
   "name": "py37"
  },
  "language_info": {
   "codemirror_mode": {
    "name": "ipython",
    "version": 2
   },
   "file_extension": ".py",
   "mimetype": "text/x-python",
   "name": "python",
   "nbconvert_exporter": "python",
   "pygments_lexer": "ipython2",
   "version": "2.7.15"
  },
  "toc": {
   "base_numbering": 1,
   "nav_menu": {},
   "number_sections": true,
   "sideBar": true,
   "skip_h1_title": false,
   "title_cell": "Table of Contents",
   "title_sidebar": "Contents",
   "toc_cell": false,
   "toc_position": {},
   "toc_section_display": true,
   "toc_window_display": false
  },
  "varInspector": {
   "cols": {
    "lenName": 16,
    "lenType": 16,
    "lenVar": 40
   },
   "kernels_config": {
    "python": {
     "delete_cmd_postfix": "",
     "delete_cmd_prefix": "del ",
     "library": "var_list.py",
     "varRefreshCmd": "print(var_dic_list())"
    },
    "r": {
     "delete_cmd_postfix": ") ",
     "delete_cmd_prefix": "rm(",
     "library": "var_list.r",
     "varRefreshCmd": "cat(var_dic_list()) "
    }
   },
   "types_to_exclude": [
    "module",
    "function",
    "builtin_function_or_method",
    "instance",
    "_Feature"
   ],
   "window_display": false
  }
 },
 "nbformat": 4,
 "nbformat_minor": 2
}
