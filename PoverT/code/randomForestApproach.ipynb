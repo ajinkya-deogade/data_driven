{
 "cells": [
  {
   "cell_type": "code",
   "execution_count": 1,
   "metadata": {
    "collapsed": true
   },
   "outputs": [],
   "source": [
    "%matplotlib inline\n",
    "\n",
    "import os\n",
    "from time import time\n",
    "import numpy as np\n",
    "import pandas as pd\n",
    "\n",
    "from sklearn.model_selection import StratifiedShuffleSplit\n",
    "from sklearn.model_selection import GridSearchCV, RandomizedSearchCV\n",
    "from sklearn.ensemble import RandomForestClassifier\n",
    "from sklearn.metrics import roc_curve, auc, log_loss\n",
    "from scipy.stats import randint as sp_randint\n",
    "from scipy import interp\n",
    "from drivendata_validator import DrivenDataValidator\n",
    "\n",
    "import matplotlib.pyplot as plt\n",
    "\n",
    "np.set_printoptions(formatter={'float': '{: 0.3f}'.format})\n",
    "\n",
    "## PLOT PROPERTIES\n",
    "plt.style.use('ggplot')\n",
    "plt.rcParams['figure.facecolor'] = '#ffffff'\n",
    "plt.rcParams['axes.facecolor'] = '#ffffff'\n",
    "plt.rcParams['axes.edgecolor'] = '#000000'\n",
    "plt.rcParams[\"savefig.facecolor\"] = '#ffffff'\n",
    "plt.rcParams[\"axes.spines.right\"] = False\n",
    "plt.rcParams[\"axes.spines.top\"] = False\n",
    "plt.rcParams[\"xtick.top\"] = False\n",
    "plt.rcParams[\"ytick.right\"] = False\n",
    "\n",
    "# data directory\n",
    "DATA_DIR = os.path.join('..', 'data', 'processed')"
   ]
  },
  {
   "cell_type": "code",
   "execution_count": 2,
   "metadata": {
    "collapsed": true
   },
   "outputs": [],
   "source": [
    "# Standardize features\n",
    "def standardize(df, numeric_only=True):\n",
    "    numeric = df.select_dtypes(include=['int64', 'float64'])\n",
    "    \n",
    "    # subtract by mean and divide by std\n",
    "    df[numeric.columns] = (numeric - numeric.mean()) / numeric.std()\n",
    "    \n",
    "    return df\n",
    "    \n",
    "## Pre Process Data - Convert the Categoricals and Standardize Numbers\n",
    "def pre_process_data(df, enforce_cols=None):\n",
    "    print(\"Input shape:\\t{}\".format(df.shape))\n",
    "        \n",
    "\n",
    "    df = standardize(df)\n",
    "    print(\"After standardization {}\".format(df.shape))\n",
    "        \n",
    "    # create dummy variables for categoricals\n",
    "    df = pd.get_dummies(df)\n",
    "    print(\"After converting categoricals:\\t{}\".format(df.shape))\n",
    "    \n",
    "\n",
    "    # match test set and training set columns\n",
    "    if enforce_cols is not None:\n",
    "        to_drop = np.setdiff1d(df.columns, enforce_cols)\n",
    "        to_add = np.setdiff1d(enforce_cols, df.columns)\n",
    "\n",
    "        df.drop(to_drop, axis=1, inplace=True)\n",
    "        df = df.assign(**{c: 0 for c in to_add})\n",
    "    \n",
    "    df.fillna(0, inplace=True)\n",
    "    \n",
    "    return df\n",
    "\n",
    "## Train a RandomForest Classifier\n",
    "def train_model(features, labels, **kwargs):\n",
    "    \n",
    "    # instantiate model\n",
    "    model = RandomForestClassifier(n_estimators=50, random_state=0)\n",
    "    \n",
    "    # train model\n",
    "    model.fit(features, labels)\n",
    "    \n",
    "    # get a (not-very-useful) sense of performance\n",
    "    accuracy = model.score(features, labels)\n",
    "    print \"In-sample accuracy: %0.2f\"%(accuracy)\n",
    "    \n",
    "    return model\n",
    "\n",
    "## Make Submission DataFrame\n",
    "def make_country_sub(preds, test_feat, country):\n",
    "    # make sure we code the country correctly\n",
    "    country_codes = ['A', 'B', 'C']\n",
    "    \n",
    "    # get just the poor probabilities\n",
    "    country_sub = pd.DataFrame(data=preds[:, 1],  # proba p=1\n",
    "                               columns=['poor'], \n",
    "                               index=test_feat.index)\n",
    "\n",
    "    \n",
    "    # add the country code for joining later\n",
    "    country_sub[\"country\"] = country\n",
    "    return country_sub[[\"country\", \"poor\"]]\n",
    "\n",
    "# Utility function to report best scores\n",
    "def report(results, n_top=3):\n",
    "    for i in range(1, n_top + 1):\n",
    "        candidates = np.flatnonzero(results['rank_test_score'] == i)\n",
    "        for candidate in candidates:\n",
    "            print(\"Model with rank: {0}\".format(i))\n",
    "            print(\"Mean validation score: {0:.3f} (std: {1:.3f})\".format(\n",
    "                  results['mean_test_score'][candidate],\n",
    "                  results['std_test_score'][candidate]))\n",
    "            print(\"Parameters: {0}\".format(results['params'][candidate]))\n",
    "            print(\"\")"
   ]
  },
  {
   "cell_type": "markdown",
   "metadata": {},
   "source": [
    "##### Household-level survey data: \n",
    "This is obfuscated data from surveys conducted by The World Bank, focusing on household-level statistics. The data come from three different countries, and are separated into different files for convenience.\n",
    "\n",
    "##### Individual-level survey data: \n",
    "This is obfuscated data from related surveys conducted by The World Bank, only these focus on individual-level statistics. The set of interviewees and countries involved are the same as the household data, as indicated by shared id indices, but this data includes detailed (obfuscated) information about household members.\n",
    "\n",
    "##### Submission format:\n",
    "This gives us the filenames and columns of our submission prediction, filled with all 0.5 as a baseline."
   ]
  },
  {
   "cell_type": "code",
   "execution_count": 3,
   "metadata": {
    "collapsed": true
   },
   "outputs": [],
   "source": [
    "## define data paths\n",
    "data_paths = {'A': {'train': os.path.join(DATA_DIR, 'A', 'A_hhold_train.csv'), \n",
    "                    'test':  os.path.join(DATA_DIR, 'A', 'A_hhold_test.csv')}, \n",
    "              \n",
    "              'B': {'train': os.path.join(DATA_DIR, 'B', 'B_hhold_train.csv'), \n",
    "                    'test':  os.path.join(DATA_DIR, 'B', 'B_hhold_test.csv')}, \n",
    "              \n",
    "              'C': {'train': os.path.join(DATA_DIR, 'C', 'C_hhold_train.csv'), \n",
    "                    'test':  os.path.join(DATA_DIR, 'C', 'C_hhold_test.csv')}}"
   ]
  },
  {
   "cell_type": "code",
   "execution_count": 4,
   "metadata": {
    "collapsed": true
   },
   "outputs": [],
   "source": [
    "# load training data\n",
    "a_train = pd.read_csv(data_paths['A']['train'], index_col='id')\n",
    "b_train = pd.read_csv(data_paths['B']['train'], index_col='id')\n",
    "c_train = pd.read_csv(data_paths['C']['train'], index_col='id')\n",
    "\n",
    "# load test data\n",
    "a_test = pd.read_csv(data_paths['A']['test'], index_col='id')\n",
    "b_test = pd.read_csv(data_paths['B']['test'], index_col='id')\n",
    "c_test = pd.read_csv(data_paths['C']['test'], index_col='id')"
   ]
  },
  {
   "cell_type": "markdown",
   "metadata": {},
   "source": [
    "#### The first thing to notice is that each country's surveys have wildly different numbers of columns, so we'll plan on training separate models for each country and combining our predictions for submission at the end."
   ]
  },
  {
   "cell_type": "code",
   "execution_count": 5,
   "metadata": {},
   "outputs": [
    {
     "data": {
      "image/png": "[encoded data removed]",
      "text/plain": [
       "<matplotlib.figure.Figure at 0x109e1af10>"
      ]
     },
     "metadata": {},
     "output_type": "display_data"
    }
   ],
   "source": [
    "f, ax = plt.subplots(1, 3, figsize=(12,4), dpi=100, facecolor='w', edgecolor='k')\n",
    "((a_train.poor.value_counts()/a_train.poor.shape[0])*100).plot.bar(title='Percentage of Poor for country A', ax=ax[0], ylim=(0, 100))\n",
    "((b_train.poor.value_counts()/b_train.poor.shape[0])*100).plot.bar(title='Percentage of Poor for country B', ax=ax[1], ylim=(0, 100))\n",
    "((c_train.poor.value_counts()/c_train.poor.shape[0])*100).plot.bar(title='Percentage of Poor for country C', ax=ax[2], ylim=(0, 100))\n",
    "plt.show()"
   ]
  },
  {
   "cell_type": "markdown",
   "metadata": {},
   "source": [
    "### Pre-process Data"
   ]
  },
  {
   "cell_type": "code",
   "execution_count": 6,
   "metadata": {},
   "outputs": [
    {
     "name": "stdout",
     "output_type": "stream",
     "text": [
      "Training\n",
      "Country A\n",
      "Input shape:\t(8203, 344)\n",
      "After standardization (8203, 344)\n",
      "After converting categoricals:\t(8203, 859)\n",
      "\n",
      "Country B\n",
      "Input shape:\t(3255, 441)\n",
      "After standardization (3255, 441)\n",
      "After converting categoricals:\t(3255, 1432)\n",
      "\n",
      "Country C\n",
      "Input shape:\t(6469, 163)\n",
      "After standardization (6469, 163)\n",
      "After converting categoricals:\t(6469, 795)\n",
      "\n",
      "\n",
      "Testing\n",
      "Country A\n",
      "Input shape:\t(4041, 344)\n",
      "After standardization (4041, 344)\n",
      "After converting categoricals:\t(4041, 851)\n",
      "Country B\n",
      "Input shape:\t(1604, 441)\n",
      "After standardization (1604, 441)\n",
      "After converting categoricals:\t(1604, 1419)\n",
      "Country C\n",
      "Input shape:\t(3187, 163)\n",
      "After standardization (3187, 163)\n",
      "After converting categoricals:\t(3187, 773)\n"
     ]
    }
   ],
   "source": [
    "print 'Preprocessing Training'\n",
    "print(\"Country A\")\n",
    "aX_train = pre_process_data(a_train.drop('poor', axis=1))\n",
    "ay_train = np.ravel(a_train.poor)\n",
    "\n",
    "print(\"\\nCountry B\")\n",
    "bX_train = pre_process_data(b_train.drop('poor', axis=1))\n",
    "by_train = np.ravel(b_train.poor)\n",
    "\n",
    "print(\"\\nCountry C\")\n",
    "cX_train = pre_process_data(c_train.drop('poor', axis=1))\n",
    "cy_train = np.ravel(c_train.poor)\n",
    "\n",
    "print '\\n\\nPreprocessing Testing'\n",
    "# process the test data\n",
    "print(\"Country A\")\n",
    "a_test = pre_process_data(a_test, enforce_cols=aX_train.columns)\n",
    "\n",
    "print(\"Country B\")\n",
    "b_test = pre_process_data(b_test, enforce_cols=bX_train.columns)\n",
    "\n",
    "print(\"Country C\")\n",
    "c_test = pre_process_data(c_test, enforce_cols=cX_train.columns)"
   ]
  },
  {
   "cell_type": "code",
   "execution_count": 7,
   "metadata": {
    "collapsed": true
   },
   "outputs": [],
   "source": [
    "## restructure train data\n",
    "all_train_data = {'A': {'features': aX_train, \n",
    "                    'labels': ay_train},\n",
    "                  'B': {'features': bX_train,\n",
    "                        'labels':  by_train}, \n",
    "                  'C': {'features': cX_train, \n",
    "                        'labels':  cy_train}}\n",
    "\n",
    "## restructure test data\n",
    "all_test_data = {'A': {'features': a_test},\n",
    "                 'B': {'features': b_test},\n",
    "                 'C': {'features': c_test}}"
   ]
  },
  {
   "cell_type": "markdown",
   "metadata": {},
   "source": [
    "### Cross-validation - Tune Parameters"
   ]
  },
  {
   "cell_type": "code",
   "execution_count": 8,
   "metadata": {},
   "outputs": [
    {
     "name": "stdout",
     "output_type": "stream",
     "text": [
      "Using the previously optimized parameters......\n"
     ]
    }
   ],
   "source": [
    "tune_params = 1\n",
    "if tune_params > 0:\n",
    "    bestParams = []\n",
    "    cv = StratifiedShuffleSplit(n_splits=10, test_size=0.6, random_state=0)\n",
    "    for grp in all_train_data:\n",
    "        \n",
    "        print 'Working on group : %s'%(grp)\n",
    "        \n",
    "        # get some data\n",
    "        X = all_train_data[grp]['features'].values.astype(np.float32)\n",
    "        y = all_train_data[grp]['labels'].astype(np.int16)\n",
    "\n",
    "        # build a classifier\n",
    "        clf = RandomForestClassifier()\n",
    "\n",
    "        # specify parameters and distributions to sample from\n",
    "        param_dist = {\"n_estimators\": sp_randint(1, 1000),\n",
    "                      \"max_depth\": sp_randint(3, 303),\n",
    "                      \"max_features\": sp_randint(1, 350),\n",
    "                      \"min_samples_split\": sp_randint(2, 350),\n",
    "                      \"min_samples_leaf\": sp_randint(1, 350),\n",
    "                      \"bootstrap\": [True, False],\n",
    "                      \"criterion\": [\"gini\", \"entropy\"]}\n",
    "\n",
    "        # run randomized search\n",
    "        n_iter_search = 5000\n",
    "        random_search = RandomizedSearchCV(clf, scoring='neg_log_loss', \n",
    "                                           param_distributions=param_dist, \n",
    "                                           n_iter=n_iter_search, cv=cv,\n",
    "                                          return_train_score=False)\n",
    "\n",
    "        start = time()\n",
    "        random_search.fit(X, y)\n",
    "        gridSearchScores = pd.DataFrame(random_search.cv_results_)\n",
    "        gridSearchScores.sort_values(['mean_test_score'], axis=0, ascending=False, inplace=True)\n",
    "        gridSearchScores.head()\n",
    "\n",
    "        all_train_data[grp]['best_parameters'] = gridSearchScores.iloc[0,:]\n",
    "        bestParams.append(all_train_data[grp]['best_parameters'])\n",
    "\n",
    "    bestParamsDF = pd.DataFrame(bestParams, index=['A', 'B', 'C'])\n",
    "    bestParamsDF.to_csv('bestParametersAllThreeModels.txt', sep='\\t', index_label='group')\n",
    "    print bestParamsDF\n",
    "else:\n",
    "    print 'Using the previously optimized parameters......'\n",
    "    bestParamsDF = pd.read_csv('bestParametersAllThreeModels.txt', sep='\\t', index_col='group')"
   ]
  },
  {
   "cell_type": "markdown",
   "metadata": {},
   "source": [
    "### Training Phase"
   ]
  },
  {
   "cell_type": "code",
   "execution_count": 9,
   "metadata": {
    "collapsed": true
   },
   "outputs": [],
   "source": [
    "## Train Model\n",
    "trained_models = {}\n",
    "for grp in all_train_data:\n",
    "    trained_models[grp] = RandomForestClassifier(bootstrap=bestParamsDF.loc[grp, 'param_bootstrap'],\n",
    "                                     min_samples_leaf=bestParamsDF.loc[grp, 'param_min_samples_leaf'],\n",
    "                                     n_estimators=bestParamsDF.loc[grp, 'param_n_estimators'], \n",
    "                                     min_samples_split=bestParamsDF.loc[grp, 'param_min_samples_split'],\n",
    "                                     criterion=bestParamsDF.loc[grp, 'param_criterion'],\n",
    "                                     max_features=bestParamsDF.loc[grp, 'param_max_features'],\n",
    "                                     max_depth=bestParamsDF.loc[grp, 'param_max_depth'])\n",
    "    trained_models[grp].fit(all_train_data[grp]['features'], all_train_data[grp]['labels'])"
   ]
  },
  {
   "cell_type": "markdown",
   "metadata": {},
   "source": [
    "### Testing Phase"
   ]
  },
  {
   "cell_type": "code",
   "execution_count": 10,
   "metadata": {
    "collapsed": true
   },
   "outputs": [],
   "source": [
    "## Predict\n",
    "predictions = {}\n",
    "for grp in all_train_data:\n",
    "    predictions[grp] = trained_models[grp].predict_proba(all_test_data[grp]['features'])"
   ]
  },
  {
   "cell_type": "markdown",
   "metadata": {},
   "source": [
    "### Validate and Submit"
   ]
  },
  {
   "cell_type": "code",
   "execution_count": 12,
   "metadata": {},
   "outputs": [
    {
     "name": "stdout",
     "output_type": "stream",
     "text": [
      "I am awesome.\n"
     ]
    }
   ],
   "source": [
    "# convert preds to data frames\n",
    "predictionsDF = {}\n",
    "for grp in all_train_data:\n",
    "    predictionsDF[grp] = make_country_sub(predictions[grp], all_test_data[grp]['features'], grp)\n",
    "\n",
    "submission = []\n",
    "submission = pd.concat([predictionsDF['A'], predictionsDF['B'], predictionsDF['C']])\n",
    "\n",
    "## Submission Format\n",
    "submission.to_csv('../data/my_submission.csv')\n",
    "\n",
    "# no parameters unless we have a read_csv kwargs file\n",
    "v = DrivenDataValidator()\n",
    "\n",
    "if v.is_valid('../data/submission_format.csv', '../data/my_submission.csv'):\n",
    "    print \"I am awesome.\"\n",
    "else:\n",
    "    print \"I am not so cool.\"\n"
   ]
  },
  {
   "cell_type": "code",
   "execution_count": null,
   "metadata": {},
   "outputs": [],
   "source": []
  },
  {
   "cell_type": "code",
   "execution_count": null,
   "metadata": {},
   "outputs": [],
   "source": []
  },
  {
   "cell_type": "code",
   "execution_count": null,
   "metadata": {},
   "outputs": [],
   "source": []
  },
  {
   "cell_type": "code",
   "execution_count": null,
   "metadata": {},
   "outputs": [],
   "source": []
  }
 ],
 "metadata": {
  "kernelspec": {
   "display_name": "Python 2",
   "language": "python",
   "name": "python2"
  },
  "language_info": {
   "codemirror_mode": {
    "name": "ipython",
    "version": 2
   },
   "file_extension": ".py",
   "mimetype": "text/x-python",
   "name": "python",
   "nbconvert_exporter": "python",
   "pygments_lexer": "ipython2",
   "version": "2.7.14"
  }
 },
 "nbformat": 4,
 "nbformat_minor": 2
}
